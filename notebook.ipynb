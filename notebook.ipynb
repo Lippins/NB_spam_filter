{
  "cells": [
    {
      "attachments": {},
      "cell_type": "markdown",
      "id": "e0347e17-026e-4181-b5eb-b6d0fc4f78d8",
      "metadata": {
        "nteract": {
          "transient": {
            "deleting": false
          }
        }
      },
      "source": [
        "# Building a Spam Filter with Naive Bayes\n",
        "Building a spam filter for SMS messages is a practical and useful application of machine learning algorithms that can help users avoid being bombarded with unwanted messages and improve their overall experience.\n",
        "\n",
        "![](https://www.informaticsinc.com/application/files/4515/2718/5763/iStock-122143117.jpg)\n",
        "\n",
        "In this project, we will delve into the practical application of algorithms by building a spam filter for SMS messages. The aim of this project is to train a computer to classify SMS messages as either spam or non-spam with an accuracy greater than 80%. This will be done by:\n",
        "- leveraging human knowledge of how messages are classified\n",
        "- using the information above to estimate the probability of a new message being either spam or non-spam. \n",
        "- having the computer classify messages as either spam or non-spam based on the probability values.\n",
        "\n",
        "To achieve this, we will use the **Multinomial Naive Bayes** algorithm along with a dataset of 5,572 SMS messages that have already been classified by humans. Tiago A. Almeida and José María Gómez Hidalgo compiled the [dataset](https://dq-content.s3.amazonaws.com/433/SMSSpamCollection), which is available for download from the [UCI Machine Learning Repository](https://archive.ics.uci.edu/ml/datasets/sms+spam+collection).\n",
        "\n",
        "> _If you want to learn more about how the data used in this project was collected, you can visit [this page](http://www.dt.fee.unicamp.br/~tiago/smsspamcollection/#composition). Additionally, the page also contains papers authored by the creators of the dataset, which you may find useful._\n",
        "\n",
        "> _Due to the nature of spam messages, the dataset contains content that may be offensive to some users._\n",
        "\n",
        "The dataset comprises pre-labelled SMS messages that have been labelled as either spam or non-spam and will be used to train the algorithm. Once the algorithm is trained, it can be used to classify new messages as spam or non-spam.\n",
        "\n",
        "## Importing Libraries"
      ]
    },
    {
      "cell_type": "code",
      "execution_count": 1,
      "id": "665a98b9",
      "metadata": {},
      "outputs": [],
      "source": [
        "import requests\n",
        "import zipfile\n",
        "import io\n",
        "import re\n",
        "import pandas as pd\n",
        "import matplotlib.pyplot as plt\n",
        "import seaborn as sns\n",
        "\n",
        "# Set the default behaviour of plots\n",
        "%matplotlib inline\n",
        "%config InlineBackend.figure_format = 'retina'"
      ]
    },
    {
      "attachments": {},
      "cell_type": "markdown",
      "id": "6d1f0129",
      "metadata": {},
      "source": [
        "## Exploring the Dataset\n",
        "\n",
        "### 1. Downloading the dataset\n",
        "First, we will download the file from the url using the [requests](https://pypi.org/project/requests/) library, then extract the contents into a local folder. To extract these contents, we use the [zipfile](https://docs.python.org/3/library/zipfile.html) library."
      ]
    },
    {
      "cell_type": "code",
      "execution_count": 2,
      "id": "b5c095fd",
      "metadata": {},
      "outputs": [
        {
          "name": "stdout",
          "output_type": "stream",
          "text": [
            "notebook.ipynb    \u001b[1m\u001b[36msmsspamcollection\u001b[m\u001b[m\n"
          ]
        }
      ],
      "source": [
        "# Pull the data from the url\n",
        "url = \"https://archive.ics.uci.edu/ml/machine-learning-databases/00228/smsspamcollection.zip\"\n",
        "response = requests.get(url)\n",
        "\n",
        "# Extract the contents into a folder locally\n",
        "folder_name = url.split('/')[-1][:-4]\n",
        "z = zipfile.ZipFile(io.BytesIO(response.content))\n",
        "z.extractall(\"./\" + folder_name)\n",
        "\n",
        "# Check if the extraction process was successful\n",
        "! ls"
      ]
    },
    {
      "attachments": {},
      "cell_type": "markdown",
      "id": "b596188d",
      "metadata": {},
      "source": [
        "### 2. Checking the file structure\n",
        "Next, we will check how the file contents are structured (by displaying the first five rows of the file). Understanding how the data is structured makes it easier to work with the data in Pandas."
      ]
    },
    {
      "cell_type": "code",
      "execution_count": 3,
      "id": "b9295a47",
      "metadata": {},
      "outputs": [
        {
          "name": "stdout",
          "output_type": "stream",
          "text": [
            "ham\tGo until jurong point, crazy.. Available only in bugis n great world la e buffet... Cine there got amore wat...\n",
            "ham\tOk lar... Joking wif u oni...\n",
            "spam\tFree entry in 2 a wkly comp to win FA Cup final tkts 21st May 2005. Text FA to 87121 to receive entry question(std txt rate)T&C's apply 08452810075over18's\n",
            "ham\tU dun say so early hor... U c already then say...\n",
            "ham\tNah I don't think he goes to usf, he lives around here though\n"
          ]
        }
      ],
      "source": [
        "# Preview from the command line\n",
        "! cd smsspamcollection; head -n 5 SMSSpamCollection; cd ../"
      ]
    },
    {
      "attachments": {},
      "cell_type": "markdown",
      "id": "f875e45a",
      "metadata": {},
      "source": [
        "The data lacks a header row, and the columns are separated by tabs. We can account for these structural attributes when reading the data with Pandas.\n",
        "### 3. Exploring with Pandas\n",
        "Finally, we can read the dataset and explore its attributes further:"
      ]
    },
    {
      "cell_type": "code",
      "execution_count": 4,
      "id": "3fc26ae6",
      "metadata": {},
      "outputs": [
        {
          "name": "stdout",
          "output_type": "stream",
          "text": [
            "STRUCTURE:\n",
            "The SMS dataset has 5572 rows and 2 columns.\n",
            "\n",
            "COMPLETENESS:\n",
            "The dataset has 0 number of null values. \n",
            "\n",
            "PREVIEW:\n",
            "Printing the first five rows of the dataset...\n"
          ]
        },
        {
          "data": {
            "text/html": [
              "<div>\n",
              "<style scoped>\n",
              "    .dataframe tbody tr th:only-of-type {\n",
              "        vertical-align: middle;\n",
              "    }\n",
              "\n",
              "    .dataframe tbody tr th {\n",
              "        vertical-align: top;\n",
              "    }\n",
              "\n",
              "    .dataframe thead th {\n",
              "        text-align: right;\n",
              "    }\n",
              "</style>\n",
              "<table border=\"1\" class=\"dataframe\">\n",
              "  <thead>\n",
              "    <tr style=\"text-align: right;\">\n",
              "      <th></th>\n",
              "      <th>label</th>\n",
              "      <th>SMS</th>\n",
              "    </tr>\n",
              "  </thead>\n",
              "  <tbody>\n",
              "    <tr>\n",
              "      <th>0</th>\n",
              "      <td>ham</td>\n",
              "      <td>Go until jurong point, crazy.. Available only ...</td>\n",
              "    </tr>\n",
              "    <tr>\n",
              "      <th>1</th>\n",
              "      <td>ham</td>\n",
              "      <td>Ok lar... Joking wif u oni...</td>\n",
              "    </tr>\n",
              "    <tr>\n",
              "      <th>2</th>\n",
              "      <td>spam</td>\n",
              "      <td>Free entry in 2 a wkly comp to win FA Cup fina...</td>\n",
              "    </tr>\n",
              "    <tr>\n",
              "      <th>3</th>\n",
              "      <td>ham</td>\n",
              "      <td>U dun say so early hor... U c already then say...</td>\n",
              "    </tr>\n",
              "    <tr>\n",
              "      <th>4</th>\n",
              "      <td>ham</td>\n",
              "      <td>Nah I don't think he goes to usf, he lives aro...</td>\n",
              "    </tr>\n",
              "  </tbody>\n",
              "</table>\n",
              "</div>"
            ],
            "text/plain": [
              "  label                                                SMS\n",
              "0   ham  Go until jurong point, crazy.. Available only ...\n",
              "1   ham                      Ok lar... Joking wif u oni...\n",
              "2  spam  Free entry in 2 a wkly comp to win FA Cup fina...\n",
              "3   ham  U dun say so early hor... U c already then say...\n",
              "4   ham  Nah I don't think he goes to usf, he lives aro..."
            ]
          },
          "execution_count": 4,
          "metadata": {},
          "output_type": "execute_result"
        }
      ],
      "source": [
        "# Read-in the data with pandas\n",
        "df = pd.read_csv(\"./smsspamcollection/SMSSpamCollection\", \n",
        "                 sep= \"\\t\", \n",
        "                 header= None, \n",
        "                 names= [\"label\", \"SMS\"]\n",
        "                )\n",
        "                \n",
        "\n",
        "# Explore dataset attributes\n",
        "print(f'STRUCTURE:\\nThe SMS dataset has {df.shape[0]} rows and {df.shape[1]} columns.\\n')\n",
        "print(f'COMPLETENESS:\\nThe dataset has {df.isnull().sum().sum()} number of null values.', '\\n')\n",
        "\n",
        "print('PREVIEW:\\nPrinting the first five rows of the dataset...')\n",
        "df.head()"
      ]
    },
    {
      "cell_type": "code",
      "execution_count": 5,
      "id": "08a74e01",
      "metadata": {},
      "outputs": [
        {
          "name": "stdout",
          "output_type": "stream",
          "text": [
            "SPAM VS HAM (NON-SPAM):\n",
            "Printing the proportion on spam vs ham messages...\n"
          ]
        },
        {
          "data": {
            "text/html": [
              "<div>\n",
              "<style scoped>\n",
              "    .dataframe tbody tr th:only-of-type {\n",
              "        vertical-align: middle;\n",
              "    }\n",
              "\n",
              "    .dataframe tbody tr th {\n",
              "        vertical-align: top;\n",
              "    }\n",
              "\n",
              "    .dataframe thead th {\n",
              "        text-align: right;\n",
              "    }\n",
              "</style>\n",
              "<table border=\"1\" class=\"dataframe\">\n",
              "  <thead>\n",
              "    <tr style=\"text-align: right;\">\n",
              "      <th></th>\n",
              "      <th>proportion</th>\n",
              "    </tr>\n",
              "  </thead>\n",
              "  <tbody>\n",
              "    <tr>\n",
              "      <th>ham</th>\n",
              "      <td>0.865937</td>\n",
              "    </tr>\n",
              "    <tr>\n",
              "      <th>spam</th>\n",
              "      <td>0.134063</td>\n",
              "    </tr>\n",
              "  </tbody>\n",
              "</table>\n",
              "</div>"
            ],
            "text/plain": [
              "      proportion\n",
              "ham     0.865937\n",
              "spam    0.134063"
            ]
          },
          "execution_count": 5,
          "metadata": {},
          "output_type": "execute_result"
        }
      ],
      "source": [
        "# Check the proportion of spam vs ham messages\n",
        "print('SPAM VS HAM (NON-SPAM):\\n\\\n",
        "Printing the proportion on spam vs ham messages...')\n",
        "df.label.value_counts(normalize= True).to_frame(name='proportion')"
      ]
    },
    {
      "attachments": {},
      "cell_type": "markdown",
      "id": "f3ebd951",
      "metadata": {},
      "source": [
        "Of the total number of SMS messages in the dataset, about 87% are classified as \"ham\" and the remaining 13% are classified as \"spam\". This indicates that the dataset is representative of the actual message distribution in practice, where most of the messages people receive are legitimate messages (\"ham\") rather than unsolicited messages (\"spam\"). \n",
        "\n",
        "Therefore, the dataset can be considered appropriate for training our filter to accurately distinguish between spam and ham messages, which will ultimately result in an effective spam filter for SMS messages.\n",
        "\n",
        "## Creating the Training and Test Datasets\n",
        "We found that about 87% of the messages in the dataset are ham and 13% are spam. To build a spam filter, it is helpful to first design a test to ensure that the filter works effectively. \n",
        "\n",
        "We will split our dataset into two categories as follows:\n",
        "1. A training set for teaching the computer how to classify messages.\n",
        "2. A test set for evaluating the performance of the spam filter. \n",
        "> _We'll keep **80%** for training and **20%** for testing._ \n",
        "\n",
        "Our aim is to create a spam filter that can classify new messages with an accuracy greater than 80%. To test this, we will compare the results of the algorithm's classification with that of the human classification on the test set."
      ]
    },
    {
      "cell_type": "code",
      "execution_count": 6,
      "id": "8a6ff95f",
      "metadata": {},
      "outputs": [
        {
          "name": "stdout",
          "output_type": "stream",
          "text": [
            "The training set has 4458 records.\n",
            "The test set has 1114 records.\n"
          ]
        }
      ],
      "source": [
        "# Randomize entire dataframe\n",
        "randomized_df = df.sample(frac=1, random_state=1)\n",
        "\n",
        "# Create training and test set\n",
        "num_records = randomized_df.shape[0]\n",
        "train_set_size = round(num_records * 0.8)\n",
        "\n",
        "train_set = randomized_df.iloc[:train_set_size].reset_index(drop=True)\n",
        "test_set = randomized_df.iloc[train_set_size:].reset_index(drop=True)\n",
        "\n",
        "# Verify training set as 80% and test set as 20% of dataframe\n",
        "assert train_set.shape[0] == round(0.8 * randomized_df.shape[0])\n",
        "assert test_set.shape[0] == round(0.2 * randomized_df.shape[0])\n",
        "print(f'The training set has {train_set.shape[0]} records.')\n",
        "print(f'The test set has {test_set.shape[0]} records.')"
      ]
    },
    {
      "attachments": {},
      "cell_type": "markdown",
      "id": "605ba529",
      "metadata": {},
      "source": [
        "In the next step, we will examine the proportion of spam and ham messages in both the training and test sets. We anticipate that these proportions will be similar to the ones found in the complete dataset, where approximately 87% of the messages are ham and the remaining 13% are spam."
      ]
    },
    {
      "cell_type": "code",
      "execution_count": 7,
      "id": "099bf24b",
      "metadata": {},
      "outputs": [
        {
          "name": "stdout",
          "output_type": "stream",
          "text": [
            "Calculating spam vs ham proportions...\n"
          ]
        },
        {
          "data": {
            "text/html": [
              "<div>\n",
              "<style scoped>\n",
              "    .dataframe tbody tr th:only-of-type {\n",
              "        vertical-align: middle;\n",
              "    }\n",
              "\n",
              "    .dataframe tbody tr th {\n",
              "        vertical-align: top;\n",
              "    }\n",
              "\n",
              "    .dataframe thead th {\n",
              "        text-align: right;\n",
              "    }\n",
              "</style>\n",
              "<table border=\"1\" class=\"dataframe\">\n",
              "  <thead>\n",
              "    <tr style=\"text-align: right;\">\n",
              "      <th></th>\n",
              "      <th>full_dataset</th>\n",
              "      <th>train_set</th>\n",
              "      <th>test_set</th>\n",
              "    </tr>\n",
              "  </thead>\n",
              "  <tbody>\n",
              "    <tr>\n",
              "      <th>ham</th>\n",
              "      <td>0.87</td>\n",
              "      <td>0.87</td>\n",
              "      <td>0.87</td>\n",
              "    </tr>\n",
              "    <tr>\n",
              "      <th>spam</th>\n",
              "      <td>0.13</td>\n",
              "      <td>0.13</td>\n",
              "      <td>0.13</td>\n",
              "    </tr>\n",
              "  </tbody>\n",
              "</table>\n",
              "</div>"
            ],
            "text/plain": [
              "      full_dataset  train_set  test_set\n",
              "ham           0.87       0.87      0.87\n",
              "spam          0.13       0.13      0.13"
            ]
          },
          "execution_count": 7,
          "metadata": {},
          "output_type": "execute_result"
        }
      ],
      "source": [
        "print(\"Calculating spam vs ham proportions...\")\n",
        "\n",
        "pd.concat([df.label.value_counts(normalize=True).round(2),\n",
        "                     train_set.label.value_counts(normalize=True).round(2),\n",
        "                     test_set.label.value_counts(normalize=True).round(2)], \n",
        "                     axis=1, \n",
        "                     keys=['full_dataset', 'train_set', 'test_set']\n",
        "         )"
      ]
    },
    {
      "attachments": {},
      "cell_type": "markdown",
      "id": "d1551e96",
      "metadata": {},
      "source": [
        "Since the proportions resemble those of the full dataset, our sampling method is deemed representative, and we can proceed.\n",
        "\n",
        "## Cleaning the Dataset"
      ]
    },
    {
      "cell_type": "code",
      "execution_count": null,
      "id": "ab7f1474",
      "metadata": {},
      "outputs": [],
      "source": []
    }
  ],
  "metadata": {
    "kernelspec": {
      "display_name": "Python 3",
      "language": "python",
      "name": "python3"
    },
    "language_info": {
      "codemirror_mode": {
        "name": "ipython",
        "version": 3
      },
      "file_extension": ".py",
      "mimetype": "text/x-python",
      "name": "python",
      "nbconvert_exporter": "python",
      "pygments_lexer": "ipython3",
      "version": "3.9.7"
    },
    "nteract": {
      "version": "0.28.0"
    },
    "vscode": {
      "interpreter": {
        "hash": "cd78fef2128015050713e82ca51c6520b11aee7c9ee8df750520bbbc7384cbaa"
      }
    }
  },
  "nbformat": 4,
  "nbformat_minor": 5
}
