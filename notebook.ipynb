{
  "cells": [
    {
      "attachments": {},
      "cell_type": "markdown",
      "id": "e0347e17-026e-4181-b5eb-b6d0fc4f78d8",
      "metadata": {
        "nteract": {
          "transient": {
            "deleting": false
          }
        }
      },
      "source": [
        "# Building a Spam Filter with Naive Bayes\n",
        "Building a spam filter for SMS messages is a practical and useful application of machine learning algorithms that can help users avoid being bombarded with unwanted messages and improve their overall experience.\n",
        "\n",
        "![](https://www.informaticsinc.com/application/files/4515/2718/5763/iStock-122143117.jpg)\n",
        "\n",
        "In this project, we will delve into the practical application of algorithms by building a spam filter for SMS messages. The aim of this project is to train a computer to classify SMS messages as either spam or non-spam. This is done by:\n",
        "- leveraging human knowledge of how messages are classified\n",
        "- using the information above to estimate the probability of a new message being either spam or non-spam. \n",
        "- having the computer classify messages as either spam or non-spam based on the probability values.\n",
        "\n",
        "To achieve this, we will use the **Multinomial Naive Bayes** algorithm along with a dataset of 5,572 SMS messages that have already been classified by humans. Tiago A. Almeida and José María Gómez Hidalgo compiled the [dataset](https://dq-content.s3.amazonaws.com/433/SMSSpamCollection), which is available for download from the [UCI Machine Learning Repository](https://archive.ics.uci.edu/ml/datasets/sms+spam+collection).\n",
        "\n",
        "> If you want to learn more about how the data used in this project was collected, you can visit [this page](http://www.dt.fee.unicamp.br/~tiago/smsspamcollection/#composition). Additionally, the page also contains papers authored by the creators of the dataset, which you may find useful.\n",
        "\n",
        "The dataset comprises pre-labelled SMS messages that have been labelled as either spam or non-spam and will be used to train the algorithm. Once the algorithm is trained, it can be used to classify new messages as spam or non-spam."
      ]
    },
    {
      "cell_type": "code",
      "execution_count": null,
      "id": "665a98b9",
      "metadata": {
        "vscode": {
          "languageId": "python"
        }
      },
      "outputs": [],
      "source": []
    }
  ],
  "metadata": {
    "kernelspec": {
      "display_name": "Python 3 (ipykernel)",
      "language": "python",
      "name": "python3"
    },
    "nteract": {
      "version": "0.28.0"
    }
  },
  "nbformat": 4,
  "nbformat_minor": 5
}
