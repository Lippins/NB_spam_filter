{
 "cells": [
  {
   "cell_type": "code",
   "execution_count": 1,
   "id": "ed4f309c",
   "metadata": {},
   "outputs": [],
   "source": [
    "import requests\n",
    "import zipfile\n",
    "import io\n",
    "import re\n",
    "import pandas as pd\n",
    "import matplotlib.pyplot as plt\n",
    "import seaborn as sns\n",
    "\n",
    "from IPython.display import display, HTML\n",
    "%matplotlib inline\n",
    "%config InlineBackend.figure_format = 'retina'"
   ]
  },
  {
   "cell_type": "markdown",
   "id": "a6281ae9",
   "metadata": {},
   "source": [
    "## Downloading the file"
   ]
  },
  {
   "cell_type": "code",
   "execution_count": 2,
   "id": "031695a7",
   "metadata": {},
   "outputs": [],
   "source": [
    "url = \"https://archive.ics.uci.edu/ml/machine-learning-databases/00228/smsspamcollection.zip\"\n",
    "response = requests.get(url)"
   ]
  },
  {
   "cell_type": "code",
   "execution_count": 3,
   "id": "20370210",
   "metadata": {},
   "outputs": [],
   "source": [
    "folder_name = url.split('/')[-1][:-4]\n",
    "z = zipfile.ZipFile(io.BytesIO(response.content))\n",
    "z.extractall(\"./\" + folder_name)"
   ]
  },
  {
   "cell_type": "code",
   "execution_count": 4,
   "id": "29b91d54",
   "metadata": {},
   "outputs": [
    {
     "name": "stdout",
     "output_type": "stream",
     "text": [
      "Untitled.ipynb    \u001b[1m\u001b[36msmsspamcollection\u001b[m\u001b[m\r\n"
     ]
    }
   ],
   "source": [
    "! ls"
   ]
  },
  {
   "cell_type": "markdown",
   "id": "f88ac038",
   "metadata": {},
   "source": [
    "## Exploring the data contents "
   ]
  },
  {
   "cell_type": "code",
   "execution_count": 5,
   "id": "34dc7c36",
   "metadata": {},
   "outputs": [
    {
     "name": "stdout",
     "output_type": "stream",
     "text": [
      "ham\tGo until jurong point, crazy.. Available only in bugis n great world la e buffet... Cine there got amore wat...\r\n",
      "ham\tOk lar... Joking wif u oni...\r\n",
      "spam\tFree entry in 2 a wkly comp to win FA Cup final tkts 21st May 2005. Text FA to 87121 to receive entry question(std txt rate)T&C's apply 08452810075over18's\r\n",
      "ham\tU dun say so early hor... U c already then say...\r\n",
      "ham\tNah I don't think he goes to usf, he lives around here though\r\n",
      "spam\tFreeMsg Hey there darling it's been 3 week's now and no word back! I'd like some fun you up for it still? Tb ok! XxX std chgs to send, £1.50 to rcv\r\n",
      "ham\tEven my brother is not like to speak with me. They treat me like aids patent.\r\n",
      "ham\tAs per your request 'Melle Melle (Oru Minnaminunginte Nurungu Vettam)' has been set as your callertune for all Callers. Press *9 to copy your friends Callertune\r\n",
      "spam\tWINNER!! As a valued network customer you have been selected to receivea £900 prize reward! To claim call 09061701461. Claim code KL341. Valid 12 hours only.\r\n",
      "spam\tHad your mobile 11 months or more? U R entitled to Update to the latest colour mobiles with camera for Free! Call The Mobile Update Co FREE on 08002986030\r\n"
     ]
    }
   ],
   "source": [
    "# Check file structure\n",
    "! cd smsspamcollection; head -n 10 SMSSpamCollection; cd ../"
   ]
  },
  {
   "cell_type": "code",
   "execution_count": 6,
   "id": "68e215cf",
   "metadata": {},
   "outputs": [
    {
     "data": {
      "text/html": [
       "<div>\n",
       "<style scoped>\n",
       "    .dataframe tbody tr th:only-of-type {\n",
       "        vertical-align: middle;\n",
       "    }\n",
       "\n",
       "    .dataframe tbody tr th {\n",
       "        vertical-align: top;\n",
       "    }\n",
       "\n",
       "    .dataframe thead th {\n",
       "        text-align: right;\n",
       "    }\n",
       "</style>\n",
       "<table border=\"1\" class=\"dataframe\">\n",
       "  <thead>\n",
       "    <tr style=\"text-align: right;\">\n",
       "      <th></th>\n",
       "      <th>label</th>\n",
       "      <th>SMS</th>\n",
       "    </tr>\n",
       "  </thead>\n",
       "  <tbody>\n",
       "    <tr>\n",
       "      <th>0</th>\n",
       "      <td>ham</td>\n",
       "      <td>Go until jurong point, crazy.. Available only ...</td>\n",
       "    </tr>\n",
       "    <tr>\n",
       "      <th>1</th>\n",
       "      <td>ham</td>\n",
       "      <td>Ok lar... Joking wif u oni...</td>\n",
       "    </tr>\n",
       "    <tr>\n",
       "      <th>2</th>\n",
       "      <td>spam</td>\n",
       "      <td>Free entry in 2 a wkly comp to win FA Cup fina...</td>\n",
       "    </tr>\n",
       "    <tr>\n",
       "      <th>3</th>\n",
       "      <td>ham</td>\n",
       "      <td>U dun say so early hor... U c already then say...</td>\n",
       "    </tr>\n",
       "    <tr>\n",
       "      <th>4</th>\n",
       "      <td>ham</td>\n",
       "      <td>Nah I don't think he goes to usf, he lives aro...</td>\n",
       "    </tr>\n",
       "  </tbody>\n",
       "</table>\n",
       "</div>"
      ],
      "text/plain": [
       "  label                                                SMS\n",
       "0   ham  Go until jurong point, crazy.. Available only ...\n",
       "1   ham                      Ok lar... Joking wif u oni...\n",
       "2  spam  Free entry in 2 a wkly comp to win FA Cup fina...\n",
       "3   ham  U dun say so early hor... U c already then say...\n",
       "4   ham  Nah I don't think he goes to usf, he lives aro..."
      ]
     },
     "execution_count": 6,
     "metadata": {},
     "output_type": "execute_result"
    }
   ],
   "source": [
    "df = pd.read_csv(\"./smsspamcollection/SMSSpamCollection\", \n",
    "                 sep=\"\\t\", \n",
    "                 header=None, \n",
    "                 names= [\"label\", \"SMS\"]\n",
    "                )\n",
    "df.head()"
   ]
  },
  {
   "cell_type": "code",
   "execution_count": 7,
   "id": "76df9f77",
   "metadata": {},
   "outputs": [
    {
     "name": "stdout",
     "output_type": "stream",
     "text": [
      "<class 'pandas.core.frame.DataFrame'>\n",
      "RangeIndex: 5572 entries, 0 to 5571\n",
      "Data columns (total 2 columns):\n",
      " #   Column  Non-Null Count  Dtype \n",
      "---  ------  --------------  ----- \n",
      " 0   label   5572 non-null   object\n",
      " 1   SMS     5572 non-null   object\n",
      "dtypes: object(2)\n",
      "memory usage: 87.2+ KB\n"
     ]
    }
   ],
   "source": [
    "df.info()"
   ]
  },
  {
   "cell_type": "code",
   "execution_count": 8,
   "id": "098db9df",
   "metadata": {},
   "outputs": [
    {
     "data": {
      "text/plain": [
       "ham     0.87\n",
       "spam    0.13\n",
       "Name: label, dtype: float64"
      ]
     },
     "execution_count": 8,
     "metadata": {},
     "output_type": "execute_result"
    }
   ],
   "source": [
    "df.label.value_counts(normalize=True).round(2)"
   ]
  },
  {
   "cell_type": "code",
   "execution_count": 9,
   "id": "9eaf7f7d",
   "metadata": {},
   "outputs": [],
   "source": [
    "## Divide data into training and test"
   ]
  },
  {
   "cell_type": "code",
   "execution_count": 10,
   "id": "0d00b8ee",
   "metadata": {},
   "outputs": [
    {
     "data": {
      "text/html": [
       "<div>\n",
       "<style scoped>\n",
       "    .dataframe tbody tr th:only-of-type {\n",
       "        vertical-align: middle;\n",
       "    }\n",
       "\n",
       "    .dataframe tbody tr th {\n",
       "        vertical-align: top;\n",
       "    }\n",
       "\n",
       "    .dataframe thead th {\n",
       "        text-align: right;\n",
       "    }\n",
       "</style>\n",
       "<table border=\"1\" class=\"dataframe\">\n",
       "  <thead>\n",
       "    <tr style=\"text-align: right;\">\n",
       "      <th></th>\n",
       "      <th>label</th>\n",
       "      <th>SMS</th>\n",
       "    </tr>\n",
       "  </thead>\n",
       "  <tbody>\n",
       "    <tr>\n",
       "      <th>1078</th>\n",
       "      <td>ham</td>\n",
       "      <td>Yep, by the pretty sculpture</td>\n",
       "    </tr>\n",
       "    <tr>\n",
       "      <th>4028</th>\n",
       "      <td>ham</td>\n",
       "      <td>Yes, princess. Are you going to make me moan?</td>\n",
       "    </tr>\n",
       "    <tr>\n",
       "      <th>958</th>\n",
       "      <td>ham</td>\n",
       "      <td>Welp apparently he retired</td>\n",
       "    </tr>\n",
       "    <tr>\n",
       "      <th>4642</th>\n",
       "      <td>ham</td>\n",
       "      <td>Havent.</td>\n",
       "    </tr>\n",
       "    <tr>\n",
       "      <th>4674</th>\n",
       "      <td>ham</td>\n",
       "      <td>I forgot 2 ask ü all smth.. There's a card on ...</td>\n",
       "    </tr>\n",
       "    <tr>\n",
       "      <th>...</th>\n",
       "      <td>...</td>\n",
       "      <td>...</td>\n",
       "    </tr>\n",
       "    <tr>\n",
       "      <th>905</th>\n",
       "      <td>ham</td>\n",
       "      <td>We're all getting worried over here, derek and...</td>\n",
       "    </tr>\n",
       "    <tr>\n",
       "      <th>5192</th>\n",
       "      <td>ham</td>\n",
       "      <td>Oh oh... Den muz change plan liao... Go back h...</td>\n",
       "    </tr>\n",
       "    <tr>\n",
       "      <th>3980</th>\n",
       "      <td>ham</td>\n",
       "      <td>CERI U REBEL! SWEET DREAMZ ME LITTLE BUDDY!! C...</td>\n",
       "    </tr>\n",
       "    <tr>\n",
       "      <th>235</th>\n",
       "      <td>spam</td>\n",
       "      <td>Text &amp; meet someone sexy today. U can find a d...</td>\n",
       "    </tr>\n",
       "    <tr>\n",
       "      <th>5157</th>\n",
       "      <td>ham</td>\n",
       "      <td>K k:) sms chat with me.</td>\n",
       "    </tr>\n",
       "  </tbody>\n",
       "</table>\n",
       "<p>5572 rows × 2 columns</p>\n",
       "</div>"
      ],
      "text/plain": [
       "     label                                                SMS\n",
       "1078   ham                       Yep, by the pretty sculpture\n",
       "4028   ham      Yes, princess. Are you going to make me moan?\n",
       "958    ham                         Welp apparently he retired\n",
       "4642   ham                                            Havent.\n",
       "4674   ham  I forgot 2 ask ü all smth.. There's a card on ...\n",
       "...    ...                                                ...\n",
       "905    ham  We're all getting worried over here, derek and...\n",
       "5192   ham  Oh oh... Den muz change plan liao... Go back h...\n",
       "3980   ham  CERI U REBEL! SWEET DREAMZ ME LITTLE BUDDY!! C...\n",
       "235   spam  Text & meet someone sexy today. U can find a d...\n",
       "5157   ham                            K k:) sms chat with me.\n",
       "\n",
       "[5572 rows x 2 columns]"
      ]
     },
     "execution_count": 10,
     "metadata": {},
     "output_type": "execute_result"
    }
   ],
   "source": [
    "# Randomize entire dataframe\n",
    "randomized_df = df.sample(frac=1, random_state=1)\n",
    "randomized_df"
   ]
  },
  {
   "cell_type": "code",
   "execution_count": 11,
   "id": "0d35bcfd",
   "metadata": {},
   "outputs": [
    {
     "name": "stdout",
     "output_type": "stream",
     "text": [
      "TRAINING_DF SHAPE --> (4458, 2)\n",
      "TEST_DF SHAPE --> (1114, 2)\n"
     ]
    }
   ],
   "source": [
    "num_records = randomized_df.shape[0]\n",
    "trainset_size = round(0.8*num_records)\n",
    "\n",
    "training_df = randomized_df.iloc[:trainset_size].reset_index(drop=True)\n",
    "test_df = randomized_df.iloc[trainset_size:].reset_index(drop=True)\n",
    "\n",
    "print(\"TRAINING_DF SHAPE -->\", training_df.shape)\n",
    "print(\"TEST_DF SHAPE -->\", test_df.shape)"
   ]
  },
  {
   "cell_type": "markdown",
   "id": "10611716",
   "metadata": {},
   "source": [
    "## Check the distribution of Spam in training and test set"
   ]
  },
  {
   "cell_type": "code",
   "execution_count": 12,
   "id": "294137da",
   "metadata": {},
   "outputs": [
    {
     "data": {
      "text/html": [
       "Proportion of spam messages in the three datasets:"
      ],
      "text/plain": [
       "<IPython.core.display.HTML object>"
      ]
     },
     "metadata": {},
     "output_type": "display_data"
    },
    {
     "data": {
      "text/html": [
       "<div>\n",
       "<style scoped>\n",
       "    .dataframe tbody tr th:only-of-type {\n",
       "        vertical-align: middle;\n",
       "    }\n",
       "\n",
       "    .dataframe tbody tr th {\n",
       "        vertical-align: top;\n",
       "    }\n",
       "\n",
       "    .dataframe thead th {\n",
       "        text-align: right;\n",
       "    }\n",
       "</style>\n",
       "<table border=\"1\" class=\"dataframe\">\n",
       "  <thead>\n",
       "    <tr style=\"text-align: right;\">\n",
       "      <th></th>\n",
       "      <th>full_dataset</th>\n",
       "      <th>training_set</th>\n",
       "      <th>test_set</th>\n",
       "    </tr>\n",
       "  </thead>\n",
       "  <tbody>\n",
       "    <tr>\n",
       "      <th>ham</th>\n",
       "      <td>0.866</td>\n",
       "      <td>0.865</td>\n",
       "      <td>0.868</td>\n",
       "    </tr>\n",
       "    <tr>\n",
       "      <th>spam</th>\n",
       "      <td>0.134</td>\n",
       "      <td>0.135</td>\n",
       "      <td>0.132</td>\n",
       "    </tr>\n",
       "  </tbody>\n",
       "</table>\n",
       "</div>"
      ],
      "text/plain": [
       "      full_dataset  training_set  test_set\n",
       "ham          0.866         0.865     0.868\n",
       "spam         0.134         0.135     0.132"
      ]
     },
     "execution_count": 12,
     "metadata": {},
     "output_type": "execute_result"
    }
   ],
   "source": [
    "display(HTML(\"Proportion of spam messages in the three datasets:\"))\n",
    "\n",
    "pd.concat([df.label.value_counts(normalize=True).round(3),\n",
    "           training_df.label.value_counts(normalize=True).round(3),\n",
    "           test_df.label.value_counts(normalize=True).round(3)], \n",
    "           axis=1, \n",
    "           keys=['full_dataset', 'training_set', 'test_set']\n",
    "         )"
   ]
  },
  {
   "cell_type": "markdown",
   "id": "ba6cd596",
   "metadata": {},
   "source": [
    "## Letter case and punctuation"
   ]
  },
  {
   "cell_type": "code",
   "execution_count": 13,
   "id": "8eccbaa4",
   "metadata": {},
   "outputs": [
    {
     "data": {
      "text/html": [
       "<div>\n",
       "<style scoped>\n",
       "    .dataframe tbody tr th:only-of-type {\n",
       "        vertical-align: middle;\n",
       "    }\n",
       "\n",
       "    .dataframe tbody tr th {\n",
       "        vertical-align: top;\n",
       "    }\n",
       "\n",
       "    .dataframe thead th {\n",
       "        text-align: right;\n",
       "    }\n",
       "</style>\n",
       "<table border=\"1\" class=\"dataframe\">\n",
       "  <thead>\n",
       "    <tr style=\"text-align: right;\">\n",
       "      <th></th>\n",
       "      <th>label</th>\n",
       "      <th>SMS</th>\n",
       "    </tr>\n",
       "  </thead>\n",
       "  <tbody>\n",
       "    <tr>\n",
       "      <th>0</th>\n",
       "      <td>ham</td>\n",
       "      <td>yep  by the pretty sculpture</td>\n",
       "    </tr>\n",
       "    <tr>\n",
       "      <th>1</th>\n",
       "      <td>ham</td>\n",
       "      <td>yes  princess  are you going to make me moan</td>\n",
       "    </tr>\n",
       "    <tr>\n",
       "      <th>2</th>\n",
       "      <td>ham</td>\n",
       "      <td>welp apparently he retired</td>\n",
       "    </tr>\n",
       "    <tr>\n",
       "      <th>3</th>\n",
       "      <td>ham</td>\n",
       "      <td>havent</td>\n",
       "    </tr>\n",
       "    <tr>\n",
       "      <th>4</th>\n",
       "      <td>ham</td>\n",
       "      <td>i forgot 2 ask ü all smth   there s a card on ...</td>\n",
       "    </tr>\n",
       "  </tbody>\n",
       "</table>\n",
       "</div>"
      ],
      "text/plain": [
       "  label                                                SMS\n",
       "0   ham                       yep  by the pretty sculpture\n",
       "1   ham      yes  princess  are you going to make me moan \n",
       "2   ham                         welp apparently he retired\n",
       "3   ham                                            havent \n",
       "4   ham  i forgot 2 ask ü all smth   there s a card on ..."
      ]
     },
     "execution_count": 13,
     "metadata": {},
     "output_type": "execute_result"
    }
   ],
   "source": [
    "training_df[\"SMS\"] = (training_df.SMS\n",
    "                         .str.replace(\"\\W\", \" \", regex=True)\n",
    "                         .str.lower()\n",
    "                     )\n",
    "training_df.head()"
   ]
  },
  {
   "cell_type": "code",
   "execution_count": 14,
   "id": "0dc29d3f",
   "metadata": {},
   "outputs": [],
   "source": [
    "training_df[\"SMS\"] = training_df.SMS.str.split()\n",
    "vocabulary = []"
   ]
  },
  {
   "cell_type": "code",
   "execution_count": 15,
   "id": "2e200770",
   "metadata": {},
   "outputs": [],
   "source": [
    "training_df.SMS.apply(lambda x: [vocabulary.append(item) for item in x]);"
   ]
  },
  {
   "cell_type": "code",
   "execution_count": 16,
   "id": "650d0483",
   "metadata": {},
   "outputs": [],
   "source": [
    "vocabulary = list(set(vocabulary))"
   ]
  },
  {
   "cell_type": "code",
   "execution_count": 17,
   "id": "66f1915d",
   "metadata": {},
   "outputs": [
    {
     "data": {
      "text/plain": [
       "7783"
      ]
     },
     "execution_count": 17,
     "metadata": {},
     "output_type": "execute_result"
    }
   ],
   "source": [
    "len(vocabulary)"
   ]
  },
  {
   "cell_type": "code",
   "execution_count": 18,
   "id": "25bf22a7",
   "metadata": {},
   "outputs": [],
   "source": [
    "word_count_per_SMS = {word: [0]* training_df.shape[0] for word in vocabulary}"
   ]
  },
  {
   "cell_type": "code",
   "execution_count": 19,
   "id": "f4370e9d",
   "metadata": {},
   "outputs": [],
   "source": [
    "for index, words in enumerate(training_df.SMS):\n",
    "    for word in (words):\n",
    "        word_count_per_SMS[word][index] += 1"
   ]
  },
  {
   "cell_type": "code",
   "execution_count": 20,
   "id": "578818f1",
   "metadata": {},
   "outputs": [],
   "source": [
    "word_count_df = pd.DataFrame(word_count_per_SMS)"
   ]
  },
  {
   "cell_type": "code",
   "execution_count": 21,
   "id": "e9d235d8",
   "metadata": {},
   "outputs": [],
   "source": [
    "training_set_clean = pd.concat([training_df, word_count_df], axis=1)\n",
    "#pd.set_option('display.max_columns', None)"
   ]
  },
  {
   "cell_type": "markdown",
   "id": "59ba4314",
   "metadata": {},
   "source": [
    "## Formulas\n",
    "\n",
    "$$ P(Spam\\mid w_1, w_2,...,w_n) \\propto P(Spam) \\cdot \\prod\\limits_{i=1}^{n}P(w_i\\mid Spam)$$\n",
    "\n",
    "$$ P(Ham\\mid w_1, w_2,...,w_n) \\propto P(Ham) \\cdot \\prod\\limits_{i=1}^{n}P(w_i\\mid Ham)$$\n",
    "\n",
    "\n",
    "\n",
    "$$ P(w_i\\mid Spam) = \\frac{N_{(w_i\\mid Spam)} + \\alpha}{N_{spam} + \\alpha \\cdot N_{Vocabulary}} $$\n",
    "\n",
    "$$ P(w_i\\mid Ham) = \\frac{N_{(w_i\\mid Ham)} + \\alpha}{N_{Ham} + \\alpha \\cdot N_{Vocabulary}} $$"
   ]
  },
  {
   "cell_type": "markdown",
   "id": "c1365810",
   "metadata": {},
   "source": [
    "## Calculating constants first"
   ]
  },
  {
   "cell_type": "code",
   "execution_count": 22,
   "id": "bcc40531",
   "metadata": {},
   "outputs": [
    {
     "data": {
      "text/html": [
       "<div>\n",
       "<style scoped>\n",
       "    .dataframe tbody tr th:only-of-type {\n",
       "        vertical-align: middle;\n",
       "    }\n",
       "\n",
       "    .dataframe tbody tr th {\n",
       "        vertical-align: top;\n",
       "    }\n",
       "\n",
       "    .dataframe thead th {\n",
       "        text-align: right;\n",
       "    }\n",
       "</style>\n",
       "<table border=\"1\" class=\"dataframe\">\n",
       "  <thead>\n",
       "    <tr style=\"text-align: right;\">\n",
       "      <th></th>\n",
       "      <th>p_spam</th>\n",
       "      <th>p_ham</th>\n",
       "      <th>n_spam</th>\n",
       "      <th>n_ham</th>\n",
       "      <th>n_vocabulary</th>\n",
       "      <th>alpha</th>\n",
       "    </tr>\n",
       "  </thead>\n",
       "  <tbody>\n",
       "    <tr>\n",
       "      <th>values</th>\n",
       "      <td>0.13459</td>\n",
       "      <td>0.86541</td>\n",
       "      <td>15190</td>\n",
       "      <td>57237</td>\n",
       "      <td>7783</td>\n",
       "      <td>1</td>\n",
       "    </tr>\n",
       "  </tbody>\n",
       "</table>\n",
       "</div>"
      ],
      "text/plain": [
       "         p_spam    p_ham  n_spam  n_ham  n_vocabulary  alpha\n",
       "values  0.13459  0.86541   15190  57237          7783      1"
      ]
     },
     "execution_count": 22,
     "metadata": {},
     "output_type": "execute_result"
    }
   ],
   "source": [
    "constants = {\n",
    "    # Probability of spam\n",
    "    'p_spam': training_set_clean.label.value_counts(normalize=True)['spam'],\n",
    "    # Probability of non spam\n",
    "    'p_ham':  training_set_clean.label.value_counts(normalize=True)['ham'],\n",
    "    # number of words in all spam messages\n",
    "    'n_spam': training_set_clean.groupby('label').sum().sum(axis=1)['spam'],\n",
    "    # number of words in all non spam messages\n",
    "    'n_ham': training_set_clean.groupby('label').sum().sum(axis=1)['ham'],\n",
    "    # number of unique words in vocabulary\n",
    "    'n_vocabulary': len(word_count_per_SMS),\n",
    "    # Laplace smooting constant\n",
    "    'alpha': 1\n",
    "}\n",
    "pd.DataFrame(constants, index=['values'])"
   ]
  },
  {
   "cell_type": "markdown",
   "id": "17ca2a5e",
   "metadata": {},
   "source": [
    "## Calculating Parameters"
   ]
  },
  {
   "cell_type": "code",
   "execution_count": 23,
   "id": "51d7b9fa",
   "metadata": {},
   "outputs": [],
   "source": [
    "spam_parameters = {item: 0 for item in vocabulary}\n",
    "ham_parameters = {item: 0 for item in vocabulary}"
   ]
  },
  {
   "cell_type": "code",
   "execution_count": 24,
   "id": "7ec0a998",
   "metadata": {},
   "outputs": [],
   "source": [
    "spam_messages = training_set_clean.loc[training_set_clean['label'] == 'spam']\n",
    "ham_messages = training_set_clean.loc[training_set_clean['label'] == 'ham']"
   ]
  },
  {
   "cell_type": "code",
   "execution_count": 25,
   "id": "13fd82e6",
   "metadata": {},
   "outputs": [],
   "source": [
    "for word in vocabulary:\n",
    "    p_word_given_spam = ((spam_messages[word].sum() + constants['alpha'])/\n",
    "                         (constants['n_spam'] + constants['alpha']*constants['n_vocabulary'])\n",
    "                        )\n",
    "    \n",
    "    p_word_given_ham  = ((ham_messages[word].sum() + constants['alpha'])/\n",
    "                         (constants['n_ham'] + constants['alpha']*constants['n_vocabulary'])\n",
    "                        )\n",
    "    \n",
    "    spam_parameters[word] = p_word_given_spam\n",
    "    ham_parameters[word] = p_word_given_ham"
   ]
  },
  {
   "cell_type": "markdown",
   "id": "9655c444",
   "metadata": {},
   "source": [
    "## Classifying a new message"
   ]
  },
  {
   "cell_type": "code",
   "execution_count": 26,
   "id": "74558ddd",
   "metadata": {},
   "outputs": [],
   "source": [
    "def classify(message):\n",
    "\n",
    "    message = re.sub('\\W', ' ', message)\n",
    "    message = message.lower()\n",
    "    message = message.split()\n",
    "\n",
    "\n",
    "    p_spam_given_message = constants['p_spam']\n",
    "    p_ham_given_message = constants['p_ham']\n",
    "    \n",
    "    for word in message:\n",
    "        if word in spam_parameters:\n",
    "            p_spam_given_message *= spam_parameters[word]\n",
    "            \n",
    "        if word in ham_parameters:\n",
    "            p_ham_given_message *= ham_parameters[word]\n",
    "            \n",
    "\n",
    "    print('P(Spam|message):', p_spam_given_message)\n",
    "    print('P(Ham|message):', p_ham_given_message)\n",
    "\n",
    "    if p_ham_given_message > p_spam_given_message:\n",
    "        print('Label: Ham')\n",
    "    elif p_ham_given_message < p_spam_given_message:\n",
    "        print('Label: Spam')\n",
    "    else:\n",
    "        print('Equal proabilities, have a human classify this!')"
   ]
  },
  {
   "cell_type": "code",
   "execution_count": 27,
   "id": "4db04a4f",
   "metadata": {},
   "outputs": [
    {
     "name": "stdout",
     "output_type": "stream",
     "text": [
      "P(Spam|message): 1.3481290211300841e-25\n",
      "P(Ham|message): 1.9368049028589875e-27\n",
      "Label: Spam\n"
     ]
    }
   ],
   "source": [
    "classify('WINNER!! This is the secret code to unlock the money: C3421.')"
   ]
  },
  {
   "cell_type": "code",
   "execution_count": 28,
   "id": "162afe97",
   "metadata": {},
   "outputs": [
    {
     "name": "stdout",
     "output_type": "stream",
     "text": [
      "P(Spam|message): 2.4372375665888117e-25\n",
      "P(Ham|message): 3.687530435009238e-21\n",
      "Label: Ham\n"
     ]
    }
   ],
   "source": [
    "classify('Sounds good, Tom, then see u there')"
   ]
  },
  {
   "cell_type": "markdown",
   "id": "0d02de13",
   "metadata": {},
   "source": [
    "## Measuring the spam filter's accuracy"
   ]
  },
  {
   "cell_type": "code",
   "execution_count": 29,
   "id": "dea0fa32",
   "metadata": {},
   "outputs": [],
   "source": [
    "def classify_test_set(message):\n",
    "\n",
    "    message = re.sub('\\W', ' ', message)\n",
    "    message = message.lower()\n",
    "    message = message.split()\n",
    "\n",
    "\n",
    "    p_spam_given_message = constants['p_spam']\n",
    "    p_ham_given_message = constants['p_ham']\n",
    "    \n",
    "    for word in message:\n",
    "        if word in spam_parameters:\n",
    "            p_spam_given_message *= spam_parameters[word]\n",
    "            \n",
    "        if word in ham_parameters:\n",
    "            p_ham_given_message *= ham_parameters[word]\n",
    "            \n",
    "    if p_ham_given_message > p_spam_given_message:\n",
    "        return 'ham'\n",
    "    elif p_ham_given_message < p_spam_given_message:\n",
    "        return 'spam'\n",
    "    else:\n",
    "        return 'needs human classification'"
   ]
  },
  {
   "cell_type": "code",
   "execution_count": 30,
   "id": "962dae4f",
   "metadata": {},
   "outputs": [
    {
     "data": {
      "text/html": [
       "<div>\n",
       "<style scoped>\n",
       "    .dataframe tbody tr th:only-of-type {\n",
       "        vertical-align: middle;\n",
       "    }\n",
       "\n",
       "    .dataframe tbody tr th {\n",
       "        vertical-align: top;\n",
       "    }\n",
       "\n",
       "    .dataframe thead th {\n",
       "        text-align: right;\n",
       "    }\n",
       "</style>\n",
       "<table border=\"1\" class=\"dataframe\">\n",
       "  <thead>\n",
       "    <tr style=\"text-align: right;\">\n",
       "      <th></th>\n",
       "      <th>label</th>\n",
       "      <th>SMS</th>\n",
       "      <th>predicted</th>\n",
       "    </tr>\n",
       "  </thead>\n",
       "  <tbody>\n",
       "    <tr>\n",
       "      <th>0</th>\n",
       "      <td>ham</td>\n",
       "      <td>Later i guess. I needa do mcat study too.</td>\n",
       "      <td>ham</td>\n",
       "    </tr>\n",
       "    <tr>\n",
       "      <th>1</th>\n",
       "      <td>ham</td>\n",
       "      <td>But i haf enuff space got like 4 mb...</td>\n",
       "      <td>ham</td>\n",
       "    </tr>\n",
       "    <tr>\n",
       "      <th>2</th>\n",
       "      <td>spam</td>\n",
       "      <td>Had your mobile 10 mths? Update to latest Oran...</td>\n",
       "      <td>spam</td>\n",
       "    </tr>\n",
       "    <tr>\n",
       "      <th>3</th>\n",
       "      <td>ham</td>\n",
       "      <td>All sounds good. Fingers . Makes it difficult ...</td>\n",
       "      <td>ham</td>\n",
       "    </tr>\n",
       "    <tr>\n",
       "      <th>4</th>\n",
       "      <td>ham</td>\n",
       "      <td>All done, all handed in. Don't know if mega sh...</td>\n",
       "      <td>ham</td>\n",
       "    </tr>\n",
       "    <tr>\n",
       "      <th>...</th>\n",
       "      <td>...</td>\n",
       "      <td>...</td>\n",
       "      <td>...</td>\n",
       "    </tr>\n",
       "    <tr>\n",
       "      <th>1109</th>\n",
       "      <td>ham</td>\n",
       "      <td>We're all getting worried over here, derek and...</td>\n",
       "      <td>ham</td>\n",
       "    </tr>\n",
       "    <tr>\n",
       "      <th>1110</th>\n",
       "      <td>ham</td>\n",
       "      <td>Oh oh... Den muz change plan liao... Go back h...</td>\n",
       "      <td>ham</td>\n",
       "    </tr>\n",
       "    <tr>\n",
       "      <th>1111</th>\n",
       "      <td>ham</td>\n",
       "      <td>CERI U REBEL! SWEET DREAMZ ME LITTLE BUDDY!! C...</td>\n",
       "      <td>ham</td>\n",
       "    </tr>\n",
       "    <tr>\n",
       "      <th>1112</th>\n",
       "      <td>spam</td>\n",
       "      <td>Text &amp; meet someone sexy today. U can find a d...</td>\n",
       "      <td>spam</td>\n",
       "    </tr>\n",
       "    <tr>\n",
       "      <th>1113</th>\n",
       "      <td>ham</td>\n",
       "      <td>K k:) sms chat with me.</td>\n",
       "      <td>ham</td>\n",
       "    </tr>\n",
       "  </tbody>\n",
       "</table>\n",
       "<p>1114 rows × 3 columns</p>\n",
       "</div>"
      ],
      "text/plain": [
       "     label                                                SMS predicted\n",
       "0      ham          Later i guess. I needa do mcat study too.       ham\n",
       "1      ham             But i haf enuff space got like 4 mb...       ham\n",
       "2     spam  Had your mobile 10 mths? Update to latest Oran...      spam\n",
       "3      ham  All sounds good. Fingers . Makes it difficult ...       ham\n",
       "4      ham  All done, all handed in. Don't know if mega sh...       ham\n",
       "...    ...                                                ...       ...\n",
       "1109   ham  We're all getting worried over here, derek and...       ham\n",
       "1110   ham  Oh oh... Den muz change plan liao... Go back h...       ham\n",
       "1111   ham  CERI U REBEL! SWEET DREAMZ ME LITTLE BUDDY!! C...       ham\n",
       "1112  spam  Text & meet someone sexy today. U can find a d...      spam\n",
       "1113   ham                            K k:) sms chat with me.       ham\n",
       "\n",
       "[1114 rows x 3 columns]"
      ]
     },
     "execution_count": 30,
     "metadata": {},
     "output_type": "execute_result"
    }
   ],
   "source": [
    "test_df['predicted'] = test_df.SMS.apply(classify_test_set)\n",
    "test_df"
   ]
  },
  {
   "cell_type": "code",
   "execution_count": 31,
   "id": "93954140",
   "metadata": {},
   "outputs": [
    {
     "name": "stdout",
     "output_type": "stream",
     "text": [
      "Correctly classified records: 1100\n",
      "InCorrectly classified records: 14\n",
      "Filter accuracy: 0.987\n"
     ]
    }
   ],
   "source": [
    "correct = (test_df.label == test_df.predicted).sum()\n",
    "incorrect = test_df.shape[0] - correct\n",
    "accuracy = correct/test_df.shape[0]\n",
    "\n",
    "print(f'Correctly classified records: {correct}')\n",
    "print(f'InCorrectly classified records: {incorrect}')\n",
    "print(f'Filter accuracy: {round(accuracy, 3)}')"
   ]
  },
  {
   "cell_type": "markdown",
   "id": "69dfedde",
   "metadata": {},
   "source": [
    "## Exploring wrong classifications"
   ]
  },
  {
   "cell_type": "code",
   "execution_count": 32,
   "id": "deac3398",
   "metadata": {},
   "outputs": [],
   "source": [
    "wrongly_classified = test_df[test_df.label != test_df.predicted]"
   ]
  },
  {
   "cell_type": "code",
   "execution_count": 33,
   "id": "8a53b5c3",
   "metadata": {},
   "outputs": [
    {
     "name": "stdout",
     "output_type": "stream",
     "text": [
      "Algorithm says ham, human says spam\n",
      "(1.) Not heard from U4 a while. Call me now am here all night with just my knickers on. Make me beg for it like U did last time 01223585236 XX Luv Nikiyu4.net\n",
      "(2.) More people are dogging in your area now. Call 09090204448 and join like minded guys. Why not arrange 1 yourself. There's 1 this evening. A£1.50 minAPN LS278BB\n",
      "(3.) Oh my god! I've found your number again! I'm so glad, text me back xafter this msgs cst std ntwk chg £1.50\n",
      "(4.) Hi babe its Chloe, how r u? I was smashed on saturday night, it was great! How was your weekend? U been missing me? SP visionsms.com Text stop to stop 150p/text\n",
      "(5.) 0A$NETWORKS allow companies to bill for SMS, so they are responsible for their \"suppliers\", just as a shop has to give a guarantee on what they sell. B. G.\n",
      "(6.) RCT' THNQ Adrian for U text. Rgds Vatian\n",
      "(7.) 2/2 146tf150p\n",
      "(8.) Hello. We need some posh birds and chaps to user trial prods for champneys. Can i put you down? I need your address and dob asap. Ta r\n",
      "\n",
      "\n",
      "\n",
      "Algorithm says spam, human says ham\n",
      "(1.) Unlimited texts. Limited minutes.\n",
      "(2.) 26th OF JULY\n",
      "(3.) Nokia phone is lovly..\n",
      "(4.) No calls..messages..missed calls\n",
      "(5.) We have sent JD for Customer Service cum Accounts Executive to ur mail id, For details contact us\n",
      "\n",
      "\n",
      "\n",
      "Algorithm says needs human classification, human says ham\n",
      "(1.) A Boy loved a gal. He propsd bt she didnt mind. He gv lv lttrs, Bt her frnds threw thm. Again d boy decided 2 aproach d gal , dt time a truck was speeding towards d gal. Wn it was about 2 hit d girl,d boy ran like hell n saved her. She asked 'hw cn u run so fast?' D boy replied \"Boost is d secret of my energy\" n instantly d girl shouted \"our energy\" n Thy lived happily 2gthr drinking boost evrydy Moral of d story:- I hv free msgs:D;): gud ni8\n",
      "\n",
      "\n",
      "\n"
     ]
    }
   ],
   "source": [
    "for case in wrongly_classified['predicted'].unique():\n",
    "    case_SMS = wrongly_classified.query('predicted == @case')\n",
    "    print(f'Algorithm says {case}, human says {case_SMS.label.unique()[0]}')\n",
    "    for index, sms in enumerate(case_SMS['SMS']):\n",
    "        print(f'({index+1}.) {sms}')\n",
    "        \n",
    "    print('\\n'*2)"
   ]
  }
 ],
 "metadata": {
  "kernelspec": {
   "display_name": "Python 3 (ipykernel)",
   "language": "python",
   "name": "python3"
  },
  "language_info": {
   "codemirror_mode": {
    "name": "ipython",
    "version": 3
   },
   "file_extension": ".py",
   "mimetype": "text/x-python",
   "name": "python",
   "nbconvert_exporter": "python",
   "pygments_lexer": "ipython3",
   "version": "3.9.7"
  }
 },
 "nbformat": 4,
 "nbformat_minor": 5
}
